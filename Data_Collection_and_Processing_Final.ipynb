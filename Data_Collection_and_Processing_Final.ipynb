{
  "nbformat": 4,
  "nbformat_minor": 0,
  "metadata": {
    "colab": {
      "name": "Data_Collection_and_Processing_Final.ipynb",
      "provenance": []
    },
    "kernelspec": {
      "name": "python3",
      "display_name": "Python 3"
    }
  },
  "cells": [
    {
      "cell_type": "markdown",
      "metadata": {
        "id": "CEGas2hQJlMY"
      },
      "source": [
        "# Python 3 Programming Specialization  \n",
        "## Course 3: Data Collection and Processing with Python  \n",
        "### Assignment: Final Course Assignment"
      ]
    },
    {
      "cell_type": "markdown",
      "metadata": {
        "id": "VT4pUY2JK_7w"
      },
      "source": [
        "**Question 1**  \n",
        "This project will take you through the process of mashing up data from two different APIs to make movie recommendations. The TasteDive API lets you provide a movie (or bands, TV shows, etc.) as a query input, and returns a set of related items. The OMDB API lets you provide a movie title as a query input and get back data about the movie, including scores from various review sites (Rotten Tomatoes, IMDB, etc.).\n",
        "\n",
        "You will put those two together. You will use TasteDive to get related movies for a whole list of titles. You’ll combine the resulting lists of related movies, and sort them according to their Rotten Tomatoes scores (which will require making API calls to the OMDB API.)\n",
        "\n",
        "To avoid problems with rate limits and site accessibility, we have provided a cache file with results for all the queries you need to make to both OMDB and TasteDive. Just use requests_with_caching.get() rather than requests.get(). If you’re having trouble, you may not be formatting your queries properly, or you may not be asking for data that exists in our cache. We will try to provide as much information as we can to help guide you to form queries for which data exists in the cache.\n",
        "\n",
        "Your first task will be to fetch data from TasteDive. The documentation for the API is at https://tastedive.com/read/api.\n",
        "\n",
        "Define a function, called get_movies_from_tastedive. It should take one input parameter, a string that is the name of a movie or music artist. The function should return the 5 TasteDive results that are associated with that string; be sure to only get movies, not other kinds of media. It will be a python dictionary with just one key, ‘Similar’.\n",
        "\n",
        "Try invoking your function with the input “Black Panther”.\n",
        "\n",
        "HINT: Be sure to include only q, type, and limit as parameters in order to extract data from the cache. If any other parameters are included, then the function will not be able to recognize the data that you’re attempting to pull from the cache. Remember, you will not need an api key in order to complete the project, because all data will be found in the cache.\n",
        "\n",
        "The cache includes data for the following queries:"
      ]
    },
    {
      "cell_type": "markdown",
      "metadata": {
        "id": "jlubVKNsLPwb"
      },
      "source": [
        "![3 pic 1.png](data:image/png;base64,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)"
      ]
    },
    {
      "cell_type": "code",
      "metadata": {
        "id": "KpXQ_7WaLhp9"
      },
      "source": [
        "# Your code here\n",
        "import requests_with_caching\n",
        "\n",
        "def get_movies_from_tastedive(name):\n",
        "    d = {}\n",
        "    d['q'] = name\n",
        "    d['type'] = 'movies'\n",
        "    d['limit'] = 5\n",
        "    data = requests_with_caching.get(\"https://tastedive.com/api/similar\", params = d)\n",
        "    movies = data.json()\n",
        "    \n",
        "    return movies\n",
        "    \n",
        "\n",
        "    \n",
        "# some invocations that we use in the automated tests; uncomment these if you are getting errors and want better error messages\n",
        "# get_movies_from_tastedive(\"Bridesmaids\")\n",
        "# get_movies_from_tastedive(\"Black Panther\")"
      ],
      "execution_count": null,
      "outputs": []
    },
    {
      "cell_type": "markdown",
      "metadata": {
        "id": "YoXGf4RLLdyP"
      },
      "source": [
        "**Question 2**  \n",
        "Please copy the completed function from above into this active code window. Next, you will need to write a function that extracts just the list of movie titles from a dictionary returned by get_movies_from_tastedive. Call it extract_movie_titles."
      ]
    },
    {
      "cell_type": "code",
      "metadata": {
        "id": "PlvxP9vULw0T"
      },
      "source": [
        "# Your code here\n",
        "import requests_with_caching\n",
        "import json\n",
        "\n",
        "def get_movies_from_tastedive(name):\n",
        "    d = {}\n",
        "    d['q'] = name\n",
        "    d['type'] = 'movies'\n",
        "    d['limit'] = 5\n",
        "    data = requests_with_caching.get(\"https://tastedive.com/api/similar\", params = d)\n",
        "    movies = data.json()\n",
        "    \n",
        "    return movies\n",
        "\n",
        "def extract_movie_titles(obj):\n",
        "    output_list = []\n",
        "    movie_list = obj['Similar']['Results']\n",
        "    for movie in movie_list:\n",
        "        output_list.append(movie['Name'])\n",
        "    return output_list\n",
        "\n",
        "# some invocations that we use in the automated tests; uncomment these if you are getting errors and want better error messages\n",
        "# extract_movie_titles(get_movies_from_tastedive(\"Tony Bennett\"))\n",
        "# extract_movie_titles(get_movies_from_tastedive(\"Black Panther\"))"
      ],
      "execution_count": null,
      "outputs": []
    },
    {
      "cell_type": "markdown",
      "metadata": {
        "id": "iJB2CzebL4lp"
      },
      "source": [
        "**Question 3**  \n",
        "Please copy the completed functions from the two code windows above into this active code window. Next, you’ll write a function, called get_related_titles. It takes a list of movie titles as input. It gets five related movies for each from TasteDive, extracts the titles for all of them, and combines them all into a single list. Don’t include the same movie twice."
      ]
    },
    {
      "cell_type": "code",
      "metadata": {
        "id": "y6tvNYp5L8sp"
      },
      "source": [
        "# Your code here\n",
        "import requests_with_caching\n",
        "import json\n",
        "\n",
        "def get_movies_from_tastedive(name):\n",
        "    d = {}\n",
        "    d['q'] = name\n",
        "    d['type'] = 'movies'\n",
        "    d['limit'] = 5\n",
        "    data = requests_with_caching.get(\"https://tastedive.com/api/similar\", params = d)\n",
        "    movies = data.json()\n",
        "    \n",
        "    return movies\n",
        "\n",
        "def extract_movie_titles(obj):\n",
        "    output_list = []\n",
        "    movie_list = obj['Similar']['Results']\n",
        "    for movie in movie_list:\n",
        "        output_list.append(movie['Name'])\n",
        "    return output_list\n",
        "\n",
        "def get_related_titles(movie_list):\n",
        "    output_list = []\n",
        "    for movie in movie_list:\n",
        "        output = extract_movie_titles(get_movies_from_tastedive(movie))\n",
        "        for o in output:\n",
        "            if o not in output_list:\n",
        "                output_list.append(o)\n",
        "    return output_list\n",
        "\n",
        "\n",
        "# some invocations that we use in the automated tests; uncomment these if you are getting errors and want better error messages\n",
        "# get_related_titles([\"Black Panther\", \"Captain Marvel\"])\n",
        "# get_related_titles([])"
      ],
      "execution_count": null,
      "outputs": []
    },
    {
      "cell_type": "markdown",
      "metadata": {
        "id": "46ZDxljJMD0V"
      },
      "source": [
        "**Question 4**  \n",
        "Your next task will be to fetch data from OMDB. The documentation for the API is at https://www.omdbapi.com/\n",
        "\n",
        "Define a function called get_movie_data. It takes in one parameter which is a string that should represent the title of a movie you want to search. The function should return a dictionary with information about that movie.\n",
        "\n",
        "Again, use requests_with_caching.get(). For the queries on movies that are already in the cache, you won’t need an api key. You will need to provide the following keys: t and r. As with the TasteDive cache, be sure to only include those two parameters in order to extract existing data from the cache."
      ]
    },
    {
      "cell_type": "code",
      "metadata": {
        "id": "StoKFmiaMG7r"
      },
      "source": [
        "# Your code here\n",
        "import requests_with_caching\n",
        "\n",
        "def get_movie_data(name):\n",
        "    d = {}\n",
        "    d['t'] = name\n",
        "    d['r'] = \"json\"\n",
        "    req = requests_with_caching.get(\"http://www.omdbapi.com/\", params = d)\n",
        "    return req.json()\n",
        "    \n",
        "# some invocations that we use in the automated tests; uncomment these if you are getting errors and want better error messages\n",
        "# get_movie_data(\"Venom\")\n",
        "# get_movie_data(\"Baby Mama\")"
      ],
      "execution_count": null,
      "outputs": []
    },
    {
      "cell_type": "markdown",
      "metadata": {
        "id": "Rkuq8E4vMNfP"
      },
      "source": [
        "**Question 5**  \n",
        "Please copy the completed function from above into this active code window. Now write a function called get_movie_rating. It takes an OMDB dictionary result for one movie and extracts the Rotten Tomatoes rating as an integer. For example, if given the OMDB dictionary for “Black Panther”, it would return 97. If there is no Rotten Tomatoes rating, return 0."
      ]
    },
    {
      "cell_type": "code",
      "metadata": {
        "id": "SL8Qp8W1MQ2T"
      },
      "source": [
        "# Your code here\n",
        "import requests_with_caching\n",
        "import json\n",
        "\n",
        "def get_movie_data(name):\n",
        "    d = {}\n",
        "    d['t'] = name\n",
        "    d['r'] = \"json\"\n",
        "    req = requests_with_caching.get(\"http://www.omdbapi.com/\", params = d)\n",
        "    return req.json()\n",
        "\n",
        "def get_movie_rating(obj):\n",
        "    ratings = obj['Ratings']\n",
        "    rating_score = 0\n",
        "    for rating in ratings:\n",
        "        if rating[\"Source\"] == \"Rotten Tomatoes\":\n",
        "            rating_score = int(rating[\"Value\"].split(\"%\")[0])\n",
        "    return rating_score\n",
        "\n",
        "\n",
        "\n",
        "# some invocations that we use in the automated tests; uncomment these if you are getting errors and want better error messages\n",
        "#get_movie_rating(get_movie_data(\"Deadpool 2\"))"
      ],
      "execution_count": null,
      "outputs": []
    },
    {
      "cell_type": "markdown",
      "metadata": {
        "id": "T26XaFw4MW9f"
      },
      "source": [
        "**Question 6**  \n",
        "Now, you’ll put it all together. Don’t forget to copy all of the functions that you have previously defined into this code window. Define a function get_sorted_recommendations. It takes a list of movie titles as an input. It returns a sorted list of related movie titles as output, up to five related movies for each input movie title. The movies should be sorted in descending order by their Rotten Tomatoes rating, as returned by the get_movie_rating function. Break ties in reverse alphabetic order, so that ‘Yahşi Batı’ comes before ‘Eyyvah Eyvah’."
      ]
    },
    {
      "cell_type": "code",
      "metadata": {
        "id": "tgX4BVpXMa1p"
      },
      "source": [
        "#Your code here\n",
        "\n",
        "import requests_with_caching\n",
        "import json\n",
        "\n",
        "def get_movies_from_tastedive(name):\n",
        "    d = {}\n",
        "    d['q'] = name\n",
        "    d['type'] = 'movies'\n",
        "    d['limit'] = 5\n",
        "    data = requests_with_caching.get(\"https://tastedive.com/api/similar\", params = d)\n",
        "    movies = data.json()\n",
        "    \n",
        "    return movies\n",
        "\n",
        "def extract_movie_titles(obj):\n",
        "    output_list = []\n",
        "    movie_list = obj['Similar']['Results']\n",
        "    for movie in movie_list:\n",
        "        output_list.append(movie['Name'])\n",
        "    return output_list\n",
        "\n",
        "def get_related_titles(movie_list):\n",
        "    output_list = []\n",
        "    for movie in movie_list:\n",
        "        output = extract_movie_titles(get_movies_from_tastedive(movie))\n",
        "        for o in output:\n",
        "            if o not in output_list:\n",
        "                output_list.append(o)\n",
        "    return output_list\n",
        "def get_movie_data(name):\n",
        "    d = {}\n",
        "    d['t'] = name\n",
        "    d['r'] = \"json\"\n",
        "    req = requests_with_caching.get(\"http://www.omdbapi.com/\", params = d)\n",
        "    return req.json()\n",
        "\n",
        "def get_movie_rating(obj):\n",
        "    ratings = obj['Ratings']\n",
        "    rating_score = 0\n",
        "    for rating in ratings:\n",
        "        if rating[\"Source\"] == \"Rotten Tomatoes\":\n",
        "            rating_score = int(rating[\"Value\"].split(\"%\")[0])\n",
        "    return rating_score\n",
        "\n",
        "def get_sorted_recommendations(movie_list):\n",
        "    related_movies = get_related_titles(movie_list)\n",
        "    rating_dict = {}\n",
        "    for movie in related_movies:\n",
        "        rating_dict[movie] = get_movie_rating(get_movie_data(movie))\n",
        "    print(rating_dict)\n",
        "    output_list = sorted(rating_dict, key = lambda x: (rating_dict[x], x), reverse = True)\n",
        "    return output_list\n",
        "    \n",
        "    \n",
        "# some invocations that we use in the automated tests; uncomment these if you are getting errors and want better error messages\n",
        "# get_sorted_recommendations([\"Bridesmaids\", \"Sherlock Holmes\"])"
      ],
      "execution_count": null,
      "outputs": []
    }
  ]
}
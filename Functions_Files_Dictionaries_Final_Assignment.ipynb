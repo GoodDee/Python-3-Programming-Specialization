{
  "nbformat": 4,
  "nbformat_minor": 0,
  "metadata": {
    "colab": {
      "name": "Functions_Files_Dictionaries_Final_Assignment.ipynb",
      "provenance": []
    },
    "kernelspec": {
      "name": "python3",
      "display_name": "Python 3"
    }
  },
  "cells": [
    {
      "cell_type": "markdown",
      "metadata": {
        "id": "Gr_-NCVfFwJp"
      },
      "source": [
        "# Python 3 Programming Specialization  \n",
        "## Course 2: Python Functions, Files and Dictionaries\n",
        "### Assignment: Final Course Assignment   "
      ]
    },
    {
      "cell_type": "markdown",
      "metadata": {
        "id": "AJh2C5xaFy_O"
      },
      "source": [
        "**Question 1**  \n",
        "We have provided some synthetic (fake, semi-randomly generated) twitter data in a csv file named project_twitter_data.csv which has the text of a tweet, the number of retweets of that tweet, and the number of replies to that tweet. We have also words that express positive sentiment and negative sentiment, in the files positive_words.txt and negative_words.txt.\n",
        "\n",
        "Your task is to build a sentiment classifier, which will detect how positive or negative each tweet is. You will create a csv file, which contains columns for the Number of Retweets, Number of Replies, Positive Score (which is how many happy words are in the tweet), Negative Score (which is how many angry words are in the tweet), and the Net Score for each tweet. At the end, you upload the csv file to Excel or Google Sheets, and produce a graph of the Net Score vs Number of Retweets.\n",
        "\n",
        "To start, define a function called strip_punctuation which takes one parameter, a string which represents a word, and removes characters considered punctuation from everywhere in the word. (Hint: remember the .replace() method for strings.)"
      ]
    },
    {
      "cell_type": "code",
      "metadata": {
        "id": "irMJBR7CFQ8E"
      },
      "source": [
        "punctuation_chars = [\"'\", '\"', \",\", \".\", \"!\", \":\", \";\", '#', '@']\n",
        "# Your code here\n",
        "def strip_punctuation(text):\n",
        "    replaced_text = text\n",
        "    for punctuation in punctuation_chars:\n",
        "        replaced_text = replaced_text.replace(punctuation, \"\")\n",
        "    return replaced_text"
      ],
      "execution_count": 1,
      "outputs": []
    },
    {
      "cell_type": "markdown",
      "metadata": {
        "id": "hketL_zwGbxy"
      },
      "source": [
        "**Question 2**  \n",
        "Next, copy in your strip_punctuation function and define a function called get_pos which takes one parameter, a string which represents one or more sentences, and calculates how many words in the string are considered positive words. Use the list, positive_words to determine what words will count as positive. The function should return a positive integer - how many occurrences there are of positive words in the text. Note that all of the words in positive_words are lower cased, so you’ll need to convert all the words in the input string to lower case as well."
      ]
    },
    {
      "cell_type": "code",
      "metadata": {
        "id": "I4QL8DOTGhx4"
      },
      "source": [
        "punctuation_chars = [\"'\", '\"', \",\", \".\", \"!\", \":\", \";\", '#', '@']\n",
        "# list of positive words to use\n",
        "positive_words = []\n",
        "with open(\"positive_words.txt\") as pos_f:\n",
        "    for lin in pos_f:\n",
        "        if lin[0] != ';' and lin[0] != '\\n':\n",
        "            positive_words.append(lin.strip())\n",
        "\n",
        "# Your code here\n",
        "def strip_punctuation(text):\n",
        "    replaced_text = text\n",
        "    for punctuation in punctuation_chars:\n",
        "        replaced_text = replaced_text.replace(punctuation, \"\")\n",
        "    return replaced_text\n",
        "\n",
        "def get_pos(text):\n",
        "    replaced_text = strip_punctuation(text)\n",
        "    replaced_text = replaced_text.lower()\n",
        "    word_list = replaced_text.split(\" \")\n",
        "    count_pos = 0\n",
        "    for word in word_list:\n",
        "        if word in positive_words:\n",
        "            count_pos += 1\n",
        "            \n",
        "    return count_pos"
      ],
      "execution_count": 4,
      "outputs": []
    },
    {
      "cell_type": "markdown",
      "metadata": {
        "id": "9kKX4cvwGp8O"
      },
      "source": [
        "**Question 3**  \n",
        "Next, copy in your strip_punctuation function and define a function called get_neg which takes one parameter, a string which represents one or more sentences, and calculates how many words in the string are considered negative words. Use the list, negative_words to determine what words will count as negative. The function should return a positive integer - how many occurrences there are of negative words in the text. Note that all of the words in negative_words are lower cased, so you’ll need to convert all the words in the input string to lower case as well."
      ]
    },
    {
      "cell_type": "code",
      "metadata": {
        "id": "PACSW6e2HJV9"
      },
      "source": [
        "punctuation_chars = [\"'\", '\"', \",\", \".\", \"!\", \":\", \";\", '#', '@']\n",
        "\n",
        "negative_words = []\n",
        "with open(\"negative_words.txt\") as pos_f:\n",
        "    for lin in pos_f:\n",
        "        if lin[0] != ';' and lin[0] != '\\n':\n",
        "            negative_words.append(lin.strip())\n",
        "\n",
        "# Your code here\n",
        "def strip_punctuation(text):\n",
        "    replaced_text = text\n",
        "    for punctuation in punctuation_chars:\n",
        "        replaced_text = replaced_text.replace(punctuation, \"\")\n",
        "    return replaced_text\n",
        "\n",
        "def get_neg(text):\n",
        "    replaced_text = strip_punctuation(text)\n",
        "    replaced_text = replaced_text.lower()\n",
        "    word_list = replaced_text.split(\" \")\n",
        "    count_neg = 0\n",
        "    for word in word_list:\n",
        "        if word in negative_words:\n",
        "            count_neg += 1\n",
        "            \n",
        "    return count_neg"
      ],
      "execution_count": 5,
      "outputs": []
    },
    {
      "cell_type": "markdown",
      "metadata": {
        "id": "cnVMP4nZHSA8"
      },
      "source": [
        "**Question 4**  \n",
        "Finally, copy in your previous functions and write code that opens the file project_twitter_data.csv which has the fake generated twitter data (the text of a tweet, the number of retweets of that tweet, and the number of replies to that tweet). Your task is to build a sentiment classifier, which will detect how positive or negative each tweet is. Copy the code from the code windows above, and put that in the top of this code window. Now, you will write code to create a csv file called resulting_data.csv, which contains the Number of Retweets, Number of Replies, Positive Score (which is how many happy words are in the tweet), Negative Score (which is how many angry words are in the tweet), and the Net Score (how positive or negative the text is overall) for each tweet. The file should have those headers in that order. Remember that there is another component to this project. You will upload the csv file to Excel or Google Sheets and produce a graph of the Net Score vs Number of Retweets. Check Coursera for that portion of the assignment, if you’re accessing this textbook from Coursera."
      ]
    },
    {
      "cell_type": "code",
      "metadata": {
        "id": "AhgH99ZlHRfP"
      },
      "source": [
        "punctuation_chars = [\"'\", '\"', \",\", \".\", \"!\", \":\", \";\", '#', '@']\n",
        "# lists of words to use\n",
        "positive_words = []\n",
        "with open(\"positive_words.txt\") as pos_f:\n",
        "    for lin in pos_f:\n",
        "        if lin[0] != ';' and lin[0] != '\\n':\n",
        "            positive_words.append(lin.strip())\n",
        "\n",
        "\n",
        "negative_words = []\n",
        "with open(\"negative_words.txt\") as pos_f:\n",
        "    for lin in pos_f:\n",
        "        if lin[0] != ';' and lin[0] != '\\n':\n",
        "            negative_words.append(lin.strip())\n",
        "            \n",
        "def strip_punctuation(text):\n",
        "    replaced_text = text\n",
        "    for punctuation in punctuation_chars:\n",
        "        replaced_text = replaced_text.replace(punctuation, \"\")\n",
        "    return replaced_text\n",
        "\n",
        "def get_pos(text):\n",
        "    replaced_text = strip_punctuation(text)\n",
        "    replaced_text = replaced_text.lower()\n",
        "    word_list = replaced_text.split(\" \")\n",
        "    count_pos = 0\n",
        "    for word in word_list:\n",
        "        if word in positive_words:\n",
        "            count_pos += 1\n",
        "            \n",
        "    return count_pos\n",
        "\n",
        "def get_neg(text):\n",
        "    replaced_text = strip_punctuation(text)\n",
        "    replaced_text = replaced_text.lower()\n",
        "    word_list = replaced_text.split(\" \")\n",
        "    count_neg = 0\n",
        "    for word in word_list:\n",
        "        if word in negative_words:\n",
        "            count_neg += 1\n",
        "            \n",
        "    return count_neg\n",
        "\n",
        "with open(\"project_twitter_data.csv\", 'r') as data:\n",
        "    line_count = 0\n",
        "    output = open(\"resulting_data.csv\", \"w\")\n",
        "    header = \", \".join([\"Number of Retweets\", \"Number of Replies\", \"Positive Score\", \"Negative Score\", \"Net Score\"])\n",
        "    output.write(header)\n",
        "    output.write(\"\\n\")\n",
        "    for line in data:\n",
        "      if line_count != 0:\n",
        "        text = line.strip()\n",
        "        text_list = text.split(\",\")\n",
        "        text, retweet, replies = text_list\n",
        "        pos_score = get_pos(text)\n",
        "        neg_score = get_neg(text)\n",
        "        output_line = \", \".join([str(retweet), str(replies), str(pos_score), str(neg_score), str(pos_score-neg_score)])\n",
        "        output.write(output_line)\n",
        "        output.write(\"\\n\")\n",
        "      line_count += 1\n",
        "    output.close()"
      ],
      "execution_count": 49,
      "outputs": []
    },
    {
      "cell_type": "code",
      "metadata": {
        "id": "7t3YioAJOjKt",
        "outputId": "acba60fe-2301-49a9-c0bc-178540528b84",
        "colab": {
          "base_uri": "https://localhost:8080/",
          "height": 350
        }
      },
      "source": [
        "with open(\"resulting_data.csv\") as output:\n",
        "  for line in output:\n",
        "    print(line.strip())"
      ],
      "execution_count": 50,
      "outputs": [
        {
          "output_type": "stream",
          "text": [
            "Number of Retweets, Number of Replies, Positive Score, Negative Score, Net Score\n",
            "3, 0, 0, 0, 0\n",
            "1, 0, 2, 2, 0\n",
            "1, 2, 1, 0, 1\n",
            "3, 1, 1, 0, 1\n",
            "6, 0, 2, 0, 2\n",
            "9, 5, 2, 0, 2\n",
            "19, 0, 2, 0, 2\n",
            "0, 0, 0, 3, -3\n",
            "0, 0, 0, 2, -2\n",
            "82, 2, 4, 0, 4\n",
            "0, 0, 0, 1, -1\n",
            "0, 0, 1, 0, 1\n",
            "47, 0, 2, 0, 2\n",
            "2, 1, 1, 0, 1\n",
            "0, 2, 1, 0, 1\n",
            "0, 0, 2, 1, 1\n",
            "4, 6, 3, 0, 3\n",
            "19, 0, 3, 1, 2\n",
            "0, 0, 1, 1, 0\n"
          ],
          "name": "stdout"
        }
      ]
    },
    {
      "cell_type": "markdown",
      "metadata": {
        "id": "gpeJTALqZu8H"
      },
      "source": [
        "![scatter plot.png](data:image/png;base64,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)"
      ]
    }
  ]
}

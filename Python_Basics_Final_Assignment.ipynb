{
  "nbformat": 4,
  "nbformat_minor": 0,
  "metadata": {
    "colab": {
      "name": "Python_Basics_Final_Assignment.ipynb",
      "provenance": []
    },
    "kernelspec": {
      "name": "python3",
      "display_name": "Python 3"
    }
  },
  "cells": [
    {
      "cell_type": "markdown",
      "metadata": {
        "id": "OgEuLmPzqyf3"
      },
      "source": [
        "# Python 3 Programming Specialization \n",
        "## Course 1: Python Basics  \n",
        "###Assignment: Final Course Assignment\n",
        "\n"
      ]
    },
    {
      "cell_type": "markdown",
      "metadata": {
        "id": "jgfqqG_bsV_p"
      },
      "source": [
        "**Question 1**  \n",
        "Below are a set of scores that students have received in the past semester. Write code to determine how many are 90 or above and assign that result to the value a_scores."
      ]
    },
    {
      "cell_type": "code",
      "metadata": {
        "id": "UPovG9uRqxEe",
        "outputId": "c36b7382-67f0-45c1-fd5f-f4d1e46c01e1",
        "colab": {
          "base_uri": "https://localhost:8080/",
          "height": 33
        }
      },
      "source": [
        "scores = \"67 80 90 78 93 20 79 89 96 97 92 88 79 68 58 90 98 100 79 74 83 88 80 86 85 70 90 100\"\n",
        "# Your own code\n",
        "a_scores = 0\n",
        "score_list = scores.split(\" \")\n",
        "for score in score_list:\n",
        "    if int(score) >= 90:\n",
        "        a_scores += 1\n",
        "\n",
        "print(a_scores)"
      ],
      "execution_count": 2,
      "outputs": [
        {
          "output_type": "stream",
          "text": [
            "10\n"
          ],
          "name": "stdout"
        }
      ]
    },
    {
      "cell_type": "markdown",
      "metadata": {
        "id": "BQP4XPcOsiXW"
      },
      "source": [
        "**Question 2**  \n",
        "Write code that uses the string stored in org and creates an acronym which is assigned to the variable acro. Only the first letter of each word should be used, each letter in the acronym should be a capital letter, and there should be nothing to separate the letters of the acronym. Words that should not be included in the acronym are stored in the list stopwords. For example, if org was assigned the string “hello to world” then the resulting acronym should be “HW”."
      ]
    },
    {
      "cell_type": "code",
      "metadata": {
        "id": "eiZSBp7Msi4-",
        "outputId": "2898dfa1-3822-463a-c2eb-91f1933d81d3",
        "colab": {
          "base_uri": "https://localhost:8080/",
          "height": 33
        }
      },
      "source": [
        "stopwords = ['to', 'a', 'for', 'by', 'an', 'am', 'the', 'so', 'it', 'and', \"The\"]\n",
        "org = \"The organization for health, safety, and education\"\n",
        "# Your own code\n",
        "org_list = org.split(\" \")\n",
        "acro = \"\"\n",
        "for word in org_list:\n",
        "    if word not in stopwords:\n",
        "        acro = acro + word[0].upper()\n",
        "\n",
        "print(acro)"
      ],
      "execution_count": 3,
      "outputs": [
        {
          "output_type": "stream",
          "text": [
            "OHSE\n"
          ],
          "name": "stdout"
        }
      ]
    },
    {
      "cell_type": "markdown",
      "metadata": {
        "id": "JEiwHoSws2ZI"
      },
      "source": [
        "**Question 3**  \n",
        "Write code that uses the string stored in sent and creates an acronym which is assigned to the variable acro. The first two letters of each word should be used, each letter in the acronym should be a capital letter, and each element of the acronym should be separated by a “. ” (dot and space). Words that should not be included in the acronym are stored in the list stopwords. For example, if sent was assigned the string “height and ewok wonder” then the resulting acronym should be “HE. EW. WO”."
      ]
    },
    {
      "cell_type": "code",
      "metadata": {
        "id": "ibHXM6KRs2to",
        "outputId": "7c150e29-e1ea-44f7-ec53-4f6e80f8ab0b",
        "colab": {
          "base_uri": "https://localhost:8080/",
          "height": 33
        }
      },
      "source": [
        "stopwords = ['to', 'a', 'for', 'by', 'an', 'am', 'the', 'so', 'it', 'and', 'The']\n",
        "sent = \"The water earth and air are vital\"\n",
        "# Your own code\n",
        "sent_list = sent.split(\" \")\n",
        "acro_list = []\n",
        "for word in sent_list:\n",
        "    if word not in stopwords:\n",
        "        acro_list.append(word[0].upper() + word[1].upper())\n",
        "acro = \". \".join(acro_list)\n",
        "\n",
        "print(acro)"
      ],
      "execution_count": 4,
      "outputs": [
        {
          "output_type": "stream",
          "text": [
            "WA. EA. AI. AR. VI\n"
          ],
          "name": "stdout"
        }
      ]
    },
    {
      "cell_type": "markdown",
      "metadata": {
        "id": "VRbEspiNtNVp"
      },
      "source": [
        "**Question 4**  \n",
        "A palindrome is a phrase that, if reversed, would read the exact same. Write code that checks if p_phrase is a palindrome by reversing it and then checking if the reversed version is equal to the original. Assign the reversed version of p_phrase to the variable r_phrase so that we can check your work."
      ]
    },
    {
      "cell_type": "code",
      "metadata": {
        "id": "nNgopw2ztNoH",
        "outputId": "63d896ac-e88c-4c92-ceb7-8fb328efbe47",
        "colab": {
          "base_uri": "https://localhost:8080/",
          "height": 33
        }
      },
      "source": [
        "p_phrase = \"was it a car or a cat I saw\"\n",
        "# Your own code\n",
        "r_phrase = \"\"\n",
        "for letter in p_phrase:\n",
        "    r_phrase = letter + r_phrase\n",
        "\n",
        "print(r_phrase)"
      ],
      "execution_count": 5,
      "outputs": [
        {
          "output_type": "stream",
          "text": [
            "was I tac a ro rac a ti saw\n"
          ],
          "name": "stdout"
        }
      ]
    },
    {
      "cell_type": "markdown",
      "metadata": {
        "id": "72gBU6K4tN6P"
      },
      "source": [
        "**Question 5**  \n",
        "Provided is a list of data about a store’s inventory where each item in the list represents the name of an item, how much is in stock, and how much it costs. Print out each item in the list with the same formatting, using the .format method (not string concatenation). For example, the first print statment should read \"The store has 12 shoes, each for 29.99 USD.\""
      ]
    },
    {
      "cell_type": "code",
      "metadata": {
        "id": "gHKSc4XQtOHz",
        "outputId": "f2c9d49f-be08-4f42-d589-d101dcc293b0",
        "colab": {
          "base_uri": "https://localhost:8080/",
          "height": 83
        }
      },
      "source": [
        "inventory = [\"shoes, 12, 29.99\", \"shirts, 20, 9.99\", \"sweatpants, 25, 15.00\", \"scarves, 13, 7.75\"]\n",
        "# Your own code\n",
        "for item in inventory:\n",
        "    item_lst = item.split(\", \")\n",
        "    item_name = item_lst[0]\n",
        "    item_num = int(item_lst[1])\n",
        "    item_price = float(item_lst[2])\n",
        "    print(\"The store has {} {}, each for {:.2f} USD.\".format(item_num, item_name, item_price))\n"
      ],
      "execution_count": 6,
      "outputs": [
        {
          "output_type": "stream",
          "text": [
            "The store has 12 shoes, each for 29.99 USD.\n",
            "The store has 20 shirts, each for 9.99 USD.\n",
            "The store has 25 sweatpants, each for 15.00 USD.\n",
            "The store has 13 scarves, each for 7.75 USD.\n"
          ],
          "name": "stdout"
        }
      ]
    }
  ]
}